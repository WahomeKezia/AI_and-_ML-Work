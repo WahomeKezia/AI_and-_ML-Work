{
  "nbformat": 4,
  "nbformat_minor": 0,
  "metadata": {
    "colab": {
      "provenance": [],
      "collapsed_sections": [
        "PWgSAt6H48IS",
        "MliiFkiVmX2z",
        "2Eb1wHgbhBYU",
        "VLNwd8PnBbu1",
        "lUCPmxwBDMrj"
      ],
      "authorship_tag": "ABX9TyNASn5jBL+Xl6In3icFbMPr",
      "include_colab_link": true
    },
    "kernelspec": {
      "name": "python3",
      "display_name": "Python 3"
    },
    "language_info": {
      "name": "python"
    }
  },
  "cells": [
    {
      "cell_type": "markdown",
      "metadata": {
        "id": "view-in-github",
        "colab_type": "text"
      },
      "source": [
        "<a href=\"https://colab.research.google.com/github/WahomeKezia/AI_and-_ML-Work/blob/main/Data_Munging_Kezia_Wahome.ipynb\" target=\"_parent\"><img src=\"https://colab.research.google.com/assets/colab-badge.svg\" alt=\"Open In Colab\"/></a>"
      ]
    },
    {
      "cell_type": "markdown",
      "source": [
        "#Setting up the data set file"
      ],
      "metadata": {
        "id": "65hv1YIK5csw"
      }
    },
    {
      "cell_type": "code",
      "source": [
        "#importing my libraries\n",
        "import pandas as pd\n",
        "import io"
      ],
      "metadata": {
        "id": "T6MJrclFg98v"
      },
      "execution_count": 34,
      "outputs": []
    },
    {
      "cell_type": "markdown",
      "source": [
        "I have uploaded the data set to google drive to enable fast uploading"
      ],
      "metadata": {
        "id": "Hw488B6Wv2jb"
      }
    },
    {
      "cell_type": "code",
      "source": [
        "#Enabling google colab drive access\n",
        "from google.colab import drive\n",
        "drive.mount('/content/drive')\n"
      ],
      "metadata": {
        "colab": {
          "base_uri": "https://localhost:8080/"
        },
        "id": "dGSgAhbHxJGP",
        "outputId": "e188403f-95ba-47b4-c3fa-9ce81fd2372d"
      },
      "execution_count": 35,
      "outputs": [
        {
          "output_type": "stream",
          "name": "stdout",
          "text": [
            "Drive already mounted at /content/drive; to attempt to forcibly remount, call drive.mount(\"/content/drive\", force_remount=True).\n"
          ]
        }
      ]
    },
    {
      "cell_type": "code",
      "source": [
        "#navigating to my dataset \n",
        "import os\n",
        "\n",
        "# Navigate to the root directory\n",
        "os.chdir('/content/drive/MyDrive/')\n"
      ],
      "metadata": {
        "id": "uZWAnhW1xEKm"
      },
      "execution_count": 30,
      "outputs": []
    },
    {
      "cell_type": "code",
      "source": [
        "#reading from the data to conform if I can access it correctly\n",
        "#data.head() this will print the raw data set"
      ],
      "metadata": {
        "id": "LATSAXL_i2zh"
      },
      "execution_count": 31,
      "outputs": []
    },
    {
      "cell_type": "markdown",
      "source": [
        "Loading my dataset to a panda dataframe"
      ],
      "metadata": {
        "id": "DAJ5FgHj02H9"
      }
    },
    {
      "cell_type": "code",
      "source": [
        "data_path = '/content/drive/MyDrive/Arrest_Data_from_2010_to_Present.csv'\n",
        "data = pd.read_csv(data_path)\n",
        "print(data.head())"
      ],
      "metadata": {
        "colab": {
          "base_uri": "https://localhost:8080/"
        },
        "id": "csePQl0G00Bo",
        "outputId": "ca350a07-a4c2-4812-a01e-97994ab6f282"
      },
      "execution_count": 74,
      "outputs": [
        {
          "output_type": "stream",
          "name": "stdout",
          "text": [
            "   Report ID Arrest Date    Time  Area ID  Area Name  Reporting District  \\\n",
            "0    4248313  02/24/2015  1310.0     20.0    Olympic              2022.0   \n",
            "1  191811472  05/03/2019  1700.0     18.0  Southeast              1802.0   \n",
            "2    4254777  02/26/2015  2010.0     19.0    Mission              1985.0   \n",
            "3    5614161  04/29/2019  1040.0      8.0    West LA               842.0   \n",
            "4    5615197  04/30/2019   615.0      6.0  Hollywood               663.0   \n",
            "\n",
            "    Age Sex Code Descent Code  Charge Group Code Charge Group Description  \\\n",
            "0  37.0        M            H                5.0                 Burglary   \n",
            "1  23.0        F            B                NaN                      NaN   \n",
            "2  22.0        M            H                6.0                  Larceny   \n",
            "3  41.0        M            H                3.0                  Robbery   \n",
            "4  27.0        M            O                5.0                 Burglary   \n",
            "\n",
            "  Arrest Type Code     Charge Charge Description  \\\n",
            "0                F      459PC           BURGLARY   \n",
            "1                M  653.22 PC                NaN   \n",
            "2                M    459.5PC        SHOPLIFTING   \n",
            "3                F      211PC            ROBBERY   \n",
            "4                F      459PC           BURGLARY   \n",
            "\n",
            "                                    Address Cross Street              Location  \n",
            "0                                       5TH       WILTON   (34.0653, -118.314)  \n",
            "1                                      91ST     FIGUEROA  (33.9543, -118.2827)  \n",
            "2   8300    VAN NUYS                     BL          NaN  (34.2216, -118.4488)  \n",
            "3  11600    WILSHIRE                     BL          NaN  (34.0508, -118.4592)  \n",
            "4                                   LA BREA    LEXINGTON  (34.0907, -118.3384)  \n"
          ]
        },
        {
          "output_type": "stream",
          "name": "stderr",
          "text": [
            "/usr/local/lib/python3.8/dist-packages/IPython/core/interactiveshell.py:3326: DtypeWarning: Columns (0) have mixed types.Specify dtype option on import or set low_memory=False.\n",
            "  exec(code_obj, self.user_global_ns, self.user_ns)\n"
          ]
        }
      ]
    },
    {
      "cell_type": "code",
      "source": [
        "\n",
        "# Generate summary statistics for dataframe\n",
        "data.describe()"
      ],
      "metadata": {
        "id": "XRV9PFI7jpVz",
        "colab": {
          "base_uri": "https://localhost:8080/",
          "height": 300
        },
        "outputId": "20f53423-fefb-4e85-8628-ef987815dee4"
      },
      "execution_count": 33,
      "outputs": [
        {
          "output_type": "execute_result",
          "data": {
            "text/plain": [
              "               Time       Area ID  Reporting District           Age  \\\n",
              "count  1.227322e+06  1.227517e+06        1.227517e+06  1.227517e+06   \n",
              "mean   1.390331e+03  1.022282e+01        1.068804e+03  3.423583e+01   \n",
              "std    6.614772e+02  6.205251e+00        6.190267e+02  1.369657e+01   \n",
              "min    0.000000e+00  1.000000e+00        1.000000e+02  0.000000e+00   \n",
              "25%    9.500000e+02  5.000000e+00        5.250000e+02  2.300000e+01   \n",
              "50%    1.515000e+03  1.100000e+01        1.113000e+03  3.200000e+01   \n",
              "75%    1.930000e+03  1.500000e+01        1.546000e+03  4.500000e+01   \n",
              "max    2.400000e+03  2.100000e+01        2.199000e+03  9.700000e+01   \n",
              "\n",
              "       Charge Group Code  \n",
              "count       1.139951e+06  \n",
              "mean        1.625491e+01  \n",
              "std         7.025462e+00  \n",
              "min         1.000000e+00  \n",
              "25%         1.100000e+01  \n",
              "50%         1.700000e+01  \n",
              "75%         2.300000e+01  \n",
              "max         9.900000e+01  "
            ],
            "text/html": [
              "\n",
              "  <div id=\"df-43be22f7-7868-40b2-8621-70b16a2942b1\">\n",
              "    <div class=\"colab-df-container\">\n",
              "      <div>\n",
              "<style scoped>\n",
              "    .dataframe tbody tr th:only-of-type {\n",
              "        vertical-align: middle;\n",
              "    }\n",
              "\n",
              "    .dataframe tbody tr th {\n",
              "        vertical-align: top;\n",
              "    }\n",
              "\n",
              "    .dataframe thead th {\n",
              "        text-align: right;\n",
              "    }\n",
              "</style>\n",
              "<table border=\"1\" class=\"dataframe\">\n",
              "  <thead>\n",
              "    <tr style=\"text-align: right;\">\n",
              "      <th></th>\n",
              "      <th>Time</th>\n",
              "      <th>Area ID</th>\n",
              "      <th>Reporting District</th>\n",
              "      <th>Age</th>\n",
              "      <th>Charge Group Code</th>\n",
              "    </tr>\n",
              "  </thead>\n",
              "  <tbody>\n",
              "    <tr>\n",
              "      <th>count</th>\n",
              "      <td>1.227322e+06</td>\n",
              "      <td>1.227517e+06</td>\n",
              "      <td>1.227517e+06</td>\n",
              "      <td>1.227517e+06</td>\n",
              "      <td>1.139951e+06</td>\n",
              "    </tr>\n",
              "    <tr>\n",
              "      <th>mean</th>\n",
              "      <td>1.390331e+03</td>\n",
              "      <td>1.022282e+01</td>\n",
              "      <td>1.068804e+03</td>\n",
              "      <td>3.423583e+01</td>\n",
              "      <td>1.625491e+01</td>\n",
              "    </tr>\n",
              "    <tr>\n",
              "      <th>std</th>\n",
              "      <td>6.614772e+02</td>\n",
              "      <td>6.205251e+00</td>\n",
              "      <td>6.190267e+02</td>\n",
              "      <td>1.369657e+01</td>\n",
              "      <td>7.025462e+00</td>\n",
              "    </tr>\n",
              "    <tr>\n",
              "      <th>min</th>\n",
              "      <td>0.000000e+00</td>\n",
              "      <td>1.000000e+00</td>\n",
              "      <td>1.000000e+02</td>\n",
              "      <td>0.000000e+00</td>\n",
              "      <td>1.000000e+00</td>\n",
              "    </tr>\n",
              "    <tr>\n",
              "      <th>25%</th>\n",
              "      <td>9.500000e+02</td>\n",
              "      <td>5.000000e+00</td>\n",
              "      <td>5.250000e+02</td>\n",
              "      <td>2.300000e+01</td>\n",
              "      <td>1.100000e+01</td>\n",
              "    </tr>\n",
              "    <tr>\n",
              "      <th>50%</th>\n",
              "      <td>1.515000e+03</td>\n",
              "      <td>1.100000e+01</td>\n",
              "      <td>1.113000e+03</td>\n",
              "      <td>3.200000e+01</td>\n",
              "      <td>1.700000e+01</td>\n",
              "    </tr>\n",
              "    <tr>\n",
              "      <th>75%</th>\n",
              "      <td>1.930000e+03</td>\n",
              "      <td>1.500000e+01</td>\n",
              "      <td>1.546000e+03</td>\n",
              "      <td>4.500000e+01</td>\n",
              "      <td>2.300000e+01</td>\n",
              "    </tr>\n",
              "    <tr>\n",
              "      <th>max</th>\n",
              "      <td>2.400000e+03</td>\n",
              "      <td>2.100000e+01</td>\n",
              "      <td>2.199000e+03</td>\n",
              "      <td>9.700000e+01</td>\n",
              "      <td>9.900000e+01</td>\n",
              "    </tr>\n",
              "  </tbody>\n",
              "</table>\n",
              "</div>\n",
              "      <button class=\"colab-df-convert\" onclick=\"convertToInteractive('df-43be22f7-7868-40b2-8621-70b16a2942b1')\"\n",
              "              title=\"Convert this dataframe to an interactive table.\"\n",
              "              style=\"display:none;\">\n",
              "        \n",
              "  <svg xmlns=\"http://www.w3.org/2000/svg\" height=\"24px\"viewBox=\"0 0 24 24\"\n",
              "       width=\"24px\">\n",
              "    <path d=\"M0 0h24v24H0V0z\" fill=\"none\"/>\n",
              "    <path d=\"M18.56 5.44l.94 2.06.94-2.06 2.06-.94-2.06-.94-.94-2.06-.94 2.06-2.06.94zm-11 1L8.5 8.5l.94-2.06 2.06-.94-2.06-.94L8.5 2.5l-.94 2.06-2.06.94zm10 10l.94 2.06.94-2.06 2.06-.94-2.06-.94-.94-2.06-.94 2.06-2.06.94z\"/><path d=\"M17.41 7.96l-1.37-1.37c-.4-.4-.92-.59-1.43-.59-.52 0-1.04.2-1.43.59L10.3 9.45l-7.72 7.72c-.78.78-.78 2.05 0 2.83L4 21.41c.39.39.9.59 1.41.59.51 0 1.02-.2 1.41-.59l7.78-7.78 2.81-2.81c.8-.78.8-2.07 0-2.86zM5.41 20L4 18.59l7.72-7.72 1.47 1.35L5.41 20z\"/>\n",
              "  </svg>\n",
              "      </button>\n",
              "      \n",
              "  <style>\n",
              "    .colab-df-container {\n",
              "      display:flex;\n",
              "      flex-wrap:wrap;\n",
              "      gap: 12px;\n",
              "    }\n",
              "\n",
              "    .colab-df-convert {\n",
              "      background-color: #E8F0FE;\n",
              "      border: none;\n",
              "      border-radius: 50%;\n",
              "      cursor: pointer;\n",
              "      display: none;\n",
              "      fill: #1967D2;\n",
              "      height: 32px;\n",
              "      padding: 0 0 0 0;\n",
              "      width: 32px;\n",
              "    }\n",
              "\n",
              "    .colab-df-convert:hover {\n",
              "      background-color: #E2EBFA;\n",
              "      box-shadow: 0px 1px 2px rgba(60, 64, 67, 0.3), 0px 1px 3px 1px rgba(60, 64, 67, 0.15);\n",
              "      fill: #174EA6;\n",
              "    }\n",
              "\n",
              "    [theme=dark] .colab-df-convert {\n",
              "      background-color: #3B4455;\n",
              "      fill: #D2E3FC;\n",
              "    }\n",
              "\n",
              "    [theme=dark] .colab-df-convert:hover {\n",
              "      background-color: #434B5C;\n",
              "      box-shadow: 0px 1px 3px 1px rgba(0, 0, 0, 0.15);\n",
              "      filter: drop-shadow(0px 1px 2px rgba(0, 0, 0, 0.3));\n",
              "      fill: #FFFFFF;\n",
              "    }\n",
              "  </style>\n",
              "\n",
              "      <script>\n",
              "        const buttonEl =\n",
              "          document.querySelector('#df-43be22f7-7868-40b2-8621-70b16a2942b1 button.colab-df-convert');\n",
              "        buttonEl.style.display =\n",
              "          google.colab.kernel.accessAllowed ? 'block' : 'none';\n",
              "\n",
              "        async function convertToInteractive(key) {\n",
              "          const element = document.querySelector('#df-43be22f7-7868-40b2-8621-70b16a2942b1');\n",
              "          const dataTable =\n",
              "            await google.colab.kernel.invokeFunction('convertToInteractive',\n",
              "                                                     [key], {});\n",
              "          if (!dataTable) return;\n",
              "\n",
              "          const docLinkHtml = 'Like what you see? Visit the ' +\n",
              "            '<a target=\"_blank\" href=https://colab.research.google.com/notebooks/data_table.ipynb>data table notebook</a>'\n",
              "            + ' to learn more about interactive tables.';\n",
              "          element.innerHTML = '';\n",
              "          dataTable['output_type'] = 'display_data';\n",
              "          await google.colab.output.renderOutput(dataTable, element);\n",
              "          const docLink = document.createElement('div');\n",
              "          docLink.innerHTML = docLinkHtml;\n",
              "          element.appendChild(docLink);\n",
              "        }\n",
              "      </script>\n",
              "    </div>\n",
              "  </div>\n",
              "  "
            ]
          },
          "metadata": {},
          "execution_count": 33
        }
      ]
    },
    {
      "cell_type": "markdown",
      "source": [
        "#Data Analysis and cleaning my dataset"
      ],
      "metadata": {
        "id": "PWgSAt6H48IS"
      }
    },
    {
      "cell_type": "code",
      "source": [
        "#cleaning my dataset\n",
        "data.dropna(inplace=True)\n",
        "\n",
        "# #Filling the empty spaces with\n",
        "# data['Column1'] = data['Column1'].fillna(value=0)\n"
      ],
      "metadata": {
        "id": "vgsuHZ7L4ODo"
      },
      "execution_count": 50,
      "outputs": []
    },
    {
      "cell_type": "code",
      "source": [
        "# remove duplicates based on a subset of columns\n",
        "data =data.drop_duplicates()\n"
      ],
      "metadata": {
        "id": "Vdgj4N6h5FM5"
      },
      "execution_count": 51,
      "outputs": []
    },
    {
      "cell_type": "markdown",
      "source": [],
      "metadata": {
        "id": "dx_s-lz85ake"
      }
    },
    {
      "cell_type": "markdown",
      "source": [
        "#  Question One "
      ],
      "metadata": {
        "id": "MliiFkiVmX2z"
      }
    },
    {
      "cell_type": "code",
      "execution_count": 52,
      "metadata": {
        "id": "MesAbYsDwQ9E",
        "colab": {
          "base_uri": "https://localhost:8080/"
        },
        "outputId": "15fa6316-920e-4170-da1a-ebae06c28fc6"
      },
      "outputs": [
        {
          "output_type": "stream",
          "name": "stdout",
          "text": [
            "Number of bookings of arrestees made in 2018: 18440\n"
          ]
        }
      ],
      "source": [
        "# Filter the data for 2018 and count the number of bookings\n",
        "arrests_2018 = data[data['Arrest Date'].str.contains('2018')].shape[0]\n",
        "print(f\"Number of bookings of arrestees made in 2018: {arrests_2018}\")\n"
      ]
    },
    {
      "cell_type": "markdown",
      "source": [
        "#Question 2"
      ],
      "metadata": {
        "id": "2Eb1wHgbhBYU"
      }
    },
    {
      "cell_type": "code",
      "source": [
        "# Filter the data for 2018\n",
        "arrests_2018 = data[data['Arrest Date'].str.contains('2018')]\n",
        "\n",
        "# Exclude the 'Pre-Delinquency' and 'Non-Criminal Detention' charge groups\n",
        "arrests_2018 = arrests_2018[~arrests_2018['Charge Group Description'].isin(['Pre-Delinquency', 'Non-Criminal Detention'])]\n",
        "\n",
        "# Exclude any arrests where the charge group description is not known\n",
        "arrests_2018 = arrests_2018[arrests_2018['Charge Group Description'].notna()]\n",
        "\n",
        "# Group the data by 'Area Name' and count the number of bookings made in each area\n",
        "bookings_by_area = arrests_2018.groupby('Area Name').size().reset_index(name='Number of Bookings')\n",
        "\n",
        "# Find the area with the most arrests in 2018\n",
        "area_with_most_arrests = bookings_by_area.sort_values('Number of Bookings', ascending=False).iloc[0]['Area Name']\n",
        "\n",
        "# Print the results\n",
        "print(\"Bookings of arrestees made in each area in 2018:\\n\", bookings_by_area)\n",
        "print(\"\\nThe area with the most arrests in 2018 was:\", area_with_most_arrests)\n"
      ],
      "metadata": {
        "id": "37u1gTl5o6no",
        "colab": {
          "base_uri": "https://localhost:8080/"
        },
        "outputId": "b5850060-b3f7-4bd8-b364-6917b80385b9"
      },
      "execution_count": 71,
      "outputs": [
        {
          "output_type": "stream",
          "name": "stdout",
          "text": [
            "Bookings of arrestees made in each area in 2018:\n",
            "       Area Name  Number of Bookings\n",
            "0   77th Street                 778\n",
            "1       Central                3978\n",
            "2    Devonshire                 293\n",
            "3      Foothill                 361\n",
            "4        Harbor                 616\n",
            "5    Hollenbeck                 330\n",
            "6     Hollywood                1950\n",
            "7       Mission                 593\n",
            "8   N Hollywood                 645\n",
            "9        Newton                1080\n",
            "10    Northeast                 755\n",
            "11      Olympic                 802\n",
            "12      Pacific                1237\n",
            "13      Rampart                 929\n",
            "14    Southeast                 375\n",
            "15    Southwest                 802\n",
            "16      Topanga                 409\n",
            "17     Van Nuys                 779\n",
            "18      West LA                 974\n",
            "19  West Valley                 467\n",
            "20     Wilshire                 259\n",
            "\n",
            "The area with the most arrests in 2018 was: Central\n"
          ]
        }
      ]
    },
    {
      "cell_type": "markdown",
      "source": [
        "#Question 3"
      ],
      "metadata": {
        "id": "VLNwd8PnBbu1"
      }
    },
    {
      "cell_type": "code",
      "source": [
        "# Filter the data for 2018 and remove minors and unknown charge groups\n",
        "filtered_df = data[(data['Arrest Date'].str.contains('2018')) &\n",
        "                        (~data['Charge Group Description'].isin(['Pre-Delinquency', 'Non-Criminal Detention'])) &\n",
        "                        (data['Charge Group Description'].notna())]\n",
        "\n",
        "# Group by Charge Group Description and calculate the average age of arrestees\n",
        "avg_age_by_charge_group = filtered_df.groupby('Charge Group Description')['Age'].mean()\n",
        "\n",
        "print(\"Average age of arrestees per each charge group in 2018:\")\n",
        "print(avg_age_by_charge_group)\n"
      ],
      "metadata": {
        "colab": {
          "base_uri": "https://localhost:8080/"
        },
        "id": "ChyiAE5uBaPi",
        "outputId": "be3dc2ed-42c7-4eb9-f9ec-c09e15491ba7"
      },
      "execution_count": 62,
      "outputs": [
        {
          "output_type": "stream",
          "name": "stdout",
          "text": [
            "Average age of arrestees per each charge group in 2018:\n",
            "Charge Group Description\n",
            "Against Family/Child              32.578947\n",
            "Aggravated Assault                33.536866\n",
            "Burglary                          29.152941\n",
            "Disorderly Conduct                42.209902\n",
            "Disturbing the Peace              41.500000\n",
            "Driving Under Influence           34.552426\n",
            "Drunkeness                        45.088521\n",
            "Federal Offenses                  33.000000\n",
            "Forgery/Counterfeit               34.666667\n",
            "Fraud/Embezzlement                35.138889\n",
            "Gambling                          42.413793\n",
            "Homicide                          33.928571\n",
            "Larceny                           32.860262\n",
            "Liquor Laws                       43.946211\n",
            "Miscellaneous Other Violations    39.368338\n",
            "Moving Traffic Violations         33.101990\n",
            "Narcotic Drug Laws                36.690933\n",
            "Other Assaults                    32.428934\n",
            "Prostitution/Allied               30.953859\n",
            "Rape                              45.875000\n",
            "Receive Stolen Property           33.514286\n",
            "Robbery                           27.061350\n",
            "Sex (except rape/prst)            35.124294\n",
            "Vehicle Theft                     30.064877\n",
            "Weapon (carry/poss)               29.576060\n",
            "Name: Age, dtype: float64\n"
          ]
        }
      ]
    },
    {
      "cell_type": "markdown",
      "source": [
        "#Question 4"
      ],
      "metadata": {
        "id": "lUCPmxwBDMrj"
      }
    },
    {
      "cell_type": "code",
      "source": [
        "''' this a solution using where I was trying to us Pandas to manipulate and filter the data\n",
        "the code prints out nan , and has a bug  '''\n",
        "\n",
        "# # Filter data for 2018 and specified charge groups\n",
        "# # data_2018 = data[data['Arrest Date'] == 2018]\n",
        "# data_charge_groups = data_2018[data_2018['Charge Group Description'].isin(charge_groups)]\n",
        "\n",
        "# # Filter out minors and unknown charge groups\n",
        "# data_charge_groups = data_charge_groups[(data_charge_groups['Charge Group Description'] != 'Pre-Delinquency') & \n",
        "#                                         (data_charge_groups['Charge Group Description'] != 'Non-Criminal Detention') &\n",
        "#                                         (data_charge_groups['Charge Group Description'].notna())]\n",
        "\n",
        "# # Remove rows with missing values in the 'Age' column\n",
        "# data_charge_groups = data_charge_groups[data_charge_groups['Age'].notna()]\n",
        "\n",
        "# # Calculate 95th percentile of Age column\n",
        "# age_95th_percentile = data_charge_groups['Age'].quantile(0.95)\n",
        "\n",
        "# # Print result\n",
        "# print(f\"The 95th percentile of the age of the arrestee for the specified charge groups in 2018 is: {age_95th_percentile}\")\n",
        "\n",
        "''' This solution  uses boolean masking with conditional statements to achieve the required solution\n",
        "this solution prints out the desired output'''\n",
        "\n",
        "# Filter the data for 2018 and select the required charge groups\n",
        "filtered_df = data[(data['Arrest Date'].str.contains('2018')) &\n",
        "                        (data['Charge Group Description'].isin(['Vehicle Theft', 'Robbery', 'Burglary', 'Receive Stolen Property']))]\n",
        "\n",
        "# Calculate the 95% quantile of age\n",
        "quantile_95 = filtered_df['Age'].quantile(0.95)\n",
        "\n",
        "print(f\"The 95% quantile of the age of the arrestee in 2018 is {quantile_95}\")\n",
        "\n",
        "\n"
      ],
      "metadata": {
        "colab": {
          "base_uri": "https://localhost:8080/"
        },
        "id": "bIa1UxkRDRcO",
        "outputId": "08e0139f-a8b0-46fe-c6b5-9b921b6b09c0"
      },
      "execution_count": 69,
      "outputs": [
        {
          "output_type": "stream",
          "name": "stdout",
          "text": [
            "The 95% quantile of the age of the arrestee in 2018 is 49.14999999999998\n"
          ]
        }
      ]
    },
    {
      "cell_type": "markdown",
      "source": [
        "#Question 5"
      ],
      "metadata": {
        "id": "W_C0m_mdG2-M"
      }
    },
    {
      "cell_type": "code",
      "source": [
        "from sklearn.linear_model import LinearRegression\n",
        "import pandas as pd\n",
        "\n",
        "# Convert Arrest Date column to datetime format\n",
        "data['Arrest Date'] = pd.to_datetime(data['Arrest Date'])\n",
        "\n",
        "# Filter the data for the years 2010 to 2018\n",
        "data_2010_2018 = data[(data['Arrest Date'].dt.year >= 2010) & (data['Arrest Date'].dt.year <= 2018)]\n",
        "\n",
        "# Group the data by year and count the number of arrests for each year\n",
        "arrests_by_year = data_2010_2018.groupby(data_2010_2018['Arrest Date'].dt.year).size()\n",
        "\n",
        "# Reshape the data for use in the linear regression model\n",
        "X = arrests_by_year.index.values.reshape(-1, 1)\n",
        "y = arrests_by_year.values.reshape(-1, 1)\n",
        "\n",
        "# Fit a linear regression model to the data\n",
        "model = LinearRegression()\n",
        "model.fit(X, y)\n",
        "\n",
        "# Use the model to predict the number of arrests in 2019\n",
        "arrests_2019 = model.predict([[2019]])[0][0]\n",
        "\n",
        "# Round the predicted number of arrests to the nearest integer\n",
        "arrests_2019_rounded = int(round(arrests_2019))\n",
        "\n",
        "# Print the result\n",
        "print(f\"Predicted number of crime arrests in 2019: {arrests_2019_rounded}\")\n"
      ],
      "metadata": {
        "colab": {
          "base_uri": "https://localhost:8080/"
        },
        "id": "mXYdiSABHXMu",
        "outputId": "6270b4e4-6264-40af-b521-5b25f19becea"
      },
      "execution_count": 80,
      "outputs": [
        {
          "output_type": "stream",
          "name": "stdout",
          "text": [
            "Predicted number of crime arrests in 2019: 67723\n"
          ]
        }
      ]
    },
    {
      "cell_type": "markdown",
      "source": [
        "#Question 6\n"
      ],
      "metadata": {
        "id": "RzK911f7KmnX"
      }
    },
    {
      "cell_type": "code",
      "source": [
        "# Filter the data for 2018 and drop missing location values\n",
        "data_2018 = data[data['Arrest Date'].dt.year == 2018]\n",
        "data_2018 = data_2018[(data_2018['Location'] != '(0, 0)')]\n",
        "\n",
        "# Split the Location column into separate Latitude and Longitude columns\n",
        "data_2018[['Latitude', 'Longitude']] = data_2018['Location'].str.split(', ', expand=True)\n",
        "data_2018['Latitude'] = data_2018['Latitude'].str.replace('(', '').astype(float)\n",
        "data_2018['Longitude'] = data_2018['Longitude'].str.replace(')', '').astype(float)\n",
        "\n",
        "# Define the coordinates of the Bradbury Building\n",
        "bradbury_coords = (34.050536, -118.247861)\n",
        "\n",
        "# Define the radius of the Earth in km\n",
        "R = 6371.0\n",
        "\n",
        "# Compute the distance between each arrest location and the Bradbury Building\n",
        "d_lat = np.radians(data_2018['Latitude']) - np.radians(bradbury_coords[0])\n",
        "d_lon = np.radians(data_2018['Longitude']) - np.radians(bradbury_coords[1])\n",
        "a = np.sin(d_lat/2)**2 + np.cos(np.radians(bradbury_coords[0])) * np.cos(np.radians(data_2018['Latitude'])) * np.sin(d_lon/2)**2\n",
        "c = 2 * np.arctan2(np.sqrt(a), np.sqrt(1-a))\n",
        "distances = R * c\n",
        "\n",
        "# Count the number of arrests within 2 km of the Bradbury Building\n",
        "num_arrests = len(distances[distances <= 2.0])\n",
        "\n",
        "# Print the result\n",
        "print(f\"Number of arrest incidents within 2 km of the Bradbury Building in 2018: {num_arrests}\")\n"
      ],
      "metadata": {
        "colab": {
          "base_uri": "https://localhost:8080/"
        },
        "id": "l02CYYUWKqHn",
        "outputId": "96a081a1-5dcf-4c65-8994-1e6e1ab45230"
      },
      "execution_count": 92,
      "outputs": [
        {
          "output_type": "stream",
          "name": "stdout",
          "text": [
            "Number of arrest incidents within 2 km of the Bradbury Building in 2018: 5913\n"
          ]
        },
        {
          "output_type": "stream",
          "name": "stderr",
          "text": [
            "<ipython-input-92-e60ed89823ff>:7: FutureWarning: The default value of regex will change from True to False in a future version. In addition, single character regular expressions will *not* be treated as literal strings when regex=True.\n",
            "  data_2018['Latitude'] = data_2018['Latitude'].str.replace('(', '').astype(float)\n",
            "<ipython-input-92-e60ed89823ff>:8: FutureWarning: The default value of regex will change from True to False in a future version. In addition, single character regular expressions will *not* be treated as literal strings when regex=True.\n",
            "  data_2018['Longitude'] = data_2018['Longitude'].str.replace(')', '').astype(float)\n"
          ]
        }
      ]
    }
  ]
}